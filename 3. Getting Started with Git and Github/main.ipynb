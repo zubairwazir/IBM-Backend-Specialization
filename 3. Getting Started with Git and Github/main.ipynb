{
 "cells": [
  {
   "cell_type": "markdown",
   "id": "689bb554",
   "metadata": {},
   "source": [
    "# Week 1"
   ]
  },
  {
   "cell_type": "markdown",
   "id": "4966e9b3",
   "metadata": {},
   "source": [
    "## Git\n",
    "Git works with **Github**. other are: **Gitlab**, **Bitbucket** and **Beanstack**"
   ]
  },
  {
   "cell_type": "markdown",
   "id": "3d800c1b",
   "metadata": {},
   "source": [
    "**SSH -** A method for secure remote login from one computer to another <br>\n",
    "**Repository -** The folder of your project that are set up for version control <br>\n",
    "**Fork -** A copy of a Repository <br>\n",
    "**Pull Request -** The process you use to request that someone reviews and approves your changes before they become final"
   ]
  },
  {
   "cell_type": "markdown",
   "id": "93cdf487",
   "metadata": {},
   "source": [
    "## Git Developer Commands <hr>\n",
    "\n",
    "**git clone -** from the upstream to prime the local repository\n",
    "\n",
    "**git pull** and **git fetch -** from \"origin\" to keep up-to-date with the upstream\n",
    "\n",
    "**git push -** to shared"
   ]
  },
  {
   "cell_type": "markdown",
   "id": "0db1fe85",
   "metadata": {},
   "source": [
    "**git init**\n",
    "\n",
    "**git remote add origin <url>** or **git remote set url <url>**\n",
    "    \n",
    "**git status**\n",
    "\n",
    "**git add file1**\n",
    "\n",
    "**git commit -m \"file1 added\"**\n",
    "    \n",
    "**git push origin master**\n",
    "\n",
    "**git push origin --set-upstream master**\n",
    "    \n",
    "<hr>\n",
    "\n",
    "**git pull**\n",
    "    \n",
    "**git fetch**\n",
    "    \n",
    "**git remote -v**\n",
    "    \n",
    "**git checkout -b**\n",
    "    \n",
    "**git checkout -b master**\n",
    "\n",
    "**git pull origin master**\n",
    "    \n",
    "**git merge master**"
   ]
  },
  {
   "cell_type": "markdown",
   "id": "9a1df9e0",
   "metadata": {},
   "source": [
    "create a new local repository using git init\n",
    "\n",
    "create and add a file to the repo using git add\n",
    "\n",
    "commit changes using git commit\n",
    "\n",
    "create a branch using git branch\n",
    "\n",
    "switch to a branch using git checkout\n",
    "\n",
    "check the status of files changed using git status\n",
    "\n",
    "review recent commits using git log\n",
    "\n",
    "revert changes using git revert\n",
    "\n",
    "get a list of branches and active branch using git branch\n",
    "\n",
    "merge changes in your active branch into another branch using git merge"
   ]
  },
  {
   "cell_type": "markdown",
   "id": "b913f6f5",
   "metadata": {},
   "source": [
    "## Summary"
   ]
  },
  {
   "cell_type": "markdown",
   "id": "09844301",
   "metadata": {},
   "source": [
    "1. Branches are used to isolate changes to code. When the changes are complete, they can be merged back into the main branch.\n",
    "\n",
    "2. Repositories can be cloned to make it possible to work locally, then sync changes back to the original.\n",
    "\n",
    "3. Repositories can be forked to be used as a base for a new project, or so that the developer can work independently.\n",
    "\n",
    "4. A Pull Request (PR) can be submitted to have your changes reviewed and merged.\n",
    "\n",
    "5. Large projects include people working in different roles:\n",
    "\n",
    "6. Developer – creates code\n",
    "\n",
    "7. Integrator – manages changes made by developers\n",
    "\n",
    "8. Repository Administrator – configures and maintains access to the repository"
   ]
  },
  {
   "cell_type": "markdown",
   "id": "fbc35061",
   "metadata": {},
   "source": [
    "### Git Revert"
   ]
  },
  {
   "cell_type": "markdown",
   "id": "8f403641",
   "metadata": {},
   "source": [
    "You can find the SHA-1 hash of the commit either by looking at the commit history in your Git client, or by using the git log command.\n",
    "\n",
    "Assuming that the commit message \"footer updated with correct year\" was the message of the commit you want to revert, you can find the SHA-1 hash of the commit using the following command:\n",
    "\n",
    "\n",
    "```git log --grep=\"footer updated with correct year\"```\n",
    "\n",
    "This will display a list of commits that contain the specified commit message, along with their corresponding SHA-1 hashes. Once you have the SHA-1 hash of the commit you want to revert, you can use it with the git revert command like this:\n",
    "\n",
    "\n",
    "```git revert <commit_hash>```\n",
    "\n",
    "Replacing <commit_hash> with the actual SHA-1 hash of the commit you want to revert"
   ]
  },
  {
   "cell_type": "code",
   "execution_count": null,
   "id": "616ec55a",
   "metadata": {},
   "outputs": [],
   "source": []
  },
  {
   "cell_type": "markdown",
   "id": "b989d129",
   "metadata": {},
   "source": [
    "create a new local repository using git init\n",
    "create and add a file to the repo using git add\n",
    "commit changes using git commit\n",
    "create a branch using git branch\n",
    "switch to a branch using git checkout\n",
    "check the status of files changed using git status\n",
    "review recent commits using git log\n",
    "revert changes using git revert\n",
    "get a list of branches and active branch using git branch\n",
    "merge changes in your active branch into another branch using git merge"
   ]
  },
  {
   "cell_type": "markdown",
   "id": "9d561973",
   "metadata": {},
   "source": [
    "***You can either specify the id of your commit that you can see from the previous log output or use the shortcut HEAD to rollback the last commit:***"
   ]
  },
  {
   "cell_type": "markdown",
   "id": "2ec142ef",
   "metadata": {},
   "source": [
    "```git revert HEAD --no-edit```"
   ]
  },
  {
   "cell_type": "markdown",
   "id": "d423cb12",
   "metadata": {},
   "source": [
    "One of the most useful features I learned about in the course is Git aliases. These allow us to create shortcuts for frequently used Git commands, making them easier to remember and saving time. I'm already using aliases like 'gs' instead of 'git status', and it's made my workflow smoother.\n",
    "\n",
    "git config --global alias.gs 'status'\n",
    "\n",
    "Another important concept I learned about is Git hooks. These are scripts that run automatically before or after certain Git commands are executed, helping to maintain consistency in the codebase and catch errors before they are committed.\n",
    "\n",
    "In addition, I learned about Git reflog, which is a log of all the changes made to the Git repository, even if those changes were later undone or lost. This can be useful for recovering lost changes or undoing unintended actions.\n",
    "\n",
    "Finally, I learned about Git stash, which allows developers to temporarily save changes to a branch without committing them. This feature has already come in handy when I need to switch to another branch to work on a different feature but don't want to commit the changes on the current branch yet."
   ]
  },
  {
   "cell_type": "code",
   "execution_count": null,
   "id": "952be567",
   "metadata": {},
   "outputs": [],
   "source": []
  }
 ],
 "metadata": {
  "kernelspec": {
   "display_name": "Python 3 (ipykernel)",
   "language": "python",
   "name": "python3"
  },
  "language_info": {
   "codemirror_mode": {
    "name": "ipython",
    "version": 3
   },
   "file_extension": ".py",
   "mimetype": "text/x-python",
   "name": "python",
   "nbconvert_exporter": "python",
   "pygments_lexer": "ipython3",
   "version": "3.9.12"
  }
 },
 "nbformat": 4,
 "nbformat_minor": 5
}
