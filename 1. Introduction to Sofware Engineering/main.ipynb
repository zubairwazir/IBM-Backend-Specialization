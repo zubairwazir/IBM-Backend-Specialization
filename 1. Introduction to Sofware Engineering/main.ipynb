{
 "cells": [
  {
   "cell_type": "markdown",
   "id": "ec00c5f7",
   "metadata": {},
   "source": [
    "# Software Engineering\n",
    "\n",
    "## Prototyping\n",
    "- Small-scale replica to clarify requirements\n",
    "- Tests design ideas\n",
    "- Can be developed at various stages of the SDLC\n",
    "\n",
    "\n",
    "## SDLC Phases:\n",
    "1. **Planning:** requirements gathering, create SRS\n",
    "2. **Design:** develop architecture, create design doc\n",
    "3. **Development:** coding\n",
    "4. **Testing:** identify and fix bugs\n",
    "5. **Deployment:** code released to production environment\n",
    "6. **Maintenance:** stakeholder feedback, issues/bugs idendified, code enhacements suggested\n",
    "\n",
    "\n",
    "### Requirements Gathering\n",
    "1. **Identifying stakeholders**\n",
    "2. **Establishing goals and objectives**\n",
    "3. **Eliciting requirements**\n",
    "4. **Documenting requirements**\n",
    "5. **Confirming requirements**\n",
    "6. **Prioritizing requirements**\n",
    "\n",
    "### Establishing goals and objectives\n",
    "- **Goals:** broad, long-term achievable outcomes\n",
    "- **Objectives:** actionable, measurable actions that achieve the goal\n",
    "\n",
    "### SRS: Requirements\n",
    "1. **Functional requirements:** functions of the software\n",
    "2. **External requirements:** users and interactions with other hardware or software\n",
    "3. **System features:** functions of the system\n",
    "4. **Non-functional requirements** performance, safety, security, quality\n",
    "\n",
    "### URS: Requirements\n",
    "- URS documents user stories\n",
    "\n",
    "### SysRS: Requirements\n",
    "- Outlines requirements of the system\n",
    "- Broader than an SRS. Both SRS and URS should be combined to form SysRS.\n",
    "- SysRS documents system capabilities and acceptance criteria, and policy, regulation, personnel, performance, security, and hardware requirements.\n",
    "\n",
    "\n",
    "### Phase 4: Testing\n",
    "- Code is tested to ensure stability, security, and that it meets requirements from the SRS\n",
    "- Bugs reported, tracked, fixed, and retested.\n",
    "\n",
    "#### Testing Levels\n",
    "1. **Unit Testing**\n",
    "2. **Integration Testing**\n",
    "3. **System Testing**\n",
    "4. **User Acceptance Testing (UAT) or Beta Testing**\n",
    "    \n",
    "#### Types of Testing\n",
    "1. **Functional Testing**\n",
    "2. **Non-Functional Testing**\n",
    "3. **Regression Testing** \n",
    "    - Confirm changes don't break the app.\n",
    "    - Occurs after fixes such as a change in req or when defects are fixed.\n",
    "    \n",
    "    \n",
    "## Software Releases\n",
    "1. **Alpha**\n",
    "    - Select stakeholders \n",
    "    - May contain errors\n",
    "    - Preview of functioning version\n",
    "    - Design changes may occur\n",
    "    \n",
    "2. **Beta**\n",
    "    - All stackeholders\n",
    "    - User Testing\n",
    "    - Meets requirements\n",
    "    \n",
    "3. **General Availability**\n",
    "    - Stable\n",
    "    - All users\n",
    "    \n",
    "### Software Version\n",
    "    version 9.1.23.7\n",
    "    \n",
    "    Ist number(9) - Major changes\n",
    "    2nd number(1) - Minor changes\n",
    "    3rd number(23)- bug fixes/patches\n",
    "    4th number(7) - less significance changes\n",
    "    \n",
    "    \n",
    "## SDLC Methodologies\n",
    "1. **Waterfall method**\n",
    "\n",
    "        Plan -> Design -> Develop -> Test -> Deploy -> Maintain\n",
    "2. **V-shaped method** \n",
    "        \n",
    "        Plan -> System Design ->   Architecture Design -> Module Design   -----Coding---- (verification)\n",
    "        Acceptance <- System Testing <- Integration Testing <- Unit Testing               (validation) \n",
    "3. **Agile method**\n",
    "    \n",
    "        Plane <-> Design <-> Develop <-> Test <-> Deploy <-> Feedback\n",
    "\n",
    "## Documentation \n",
    "\n",
    "1. #### Process Documentation \n",
    "    - How to complete a task\n",
    "\n",
    "2. #### Product Documentation\n",
    "    - Relates to how a product functions\n",
    "    - Includes requirements, design, technical, QA, and User\n",
    "\n",
    "    #### SOPs\n",
    "    - Written instructions detailing an organization-specific procedure"
   ]
  },
  {
   "cell_type": "code",
   "execution_count": 2,
   "id": "799575bd",
   "metadata": {},
   "outputs": [
    {
     "name": "stdout",
     "output_type": "stream",
     "text": [
      "Hello World\n"
     ]
    }
   ],
   "source": [
    "print(\"Hello World\")"
   ]
  },
  {
   "cell_type": "code",
   "execution_count": 3,
   "id": "1cc4f904",
   "metadata": {},
   "outputs": [
    {
     "name": "stdout",
     "output_type": "stream",
     "text": [
      "Hey I am testing here\n"
     ]
    }
   ],
   "source": [
    "print(\"Hey I am testing here\")"
   ]
  },
  {
   "cell_type": "code",
   "execution_count": 6,
   "id": "d432f5d3",
   "metadata": {},
   "outputs": [],
   "source": []
  },
  {
   "cell_type": "code",
   "execution_count": null,
   "id": "ddc77b15",
   "metadata": {},
   "outputs": [],
   "source": []
  },
  {
   "cell_type": "code",
   "execution_count": null,
   "id": "8ee33bed",
   "metadata": {},
   "outputs": [],
   "source": []
  },
  {
   "cell_type": "code",
   "execution_count": null,
   "id": "5a804436",
   "metadata": {},
   "outputs": [],
   "source": []
  },
  {
   "cell_type": "code",
   "execution_count": null,
   "id": "e33acee2",
   "metadata": {},
   "outputs": [],
   "source": []
  },
  {
   "cell_type": "code",
   "execution_count": null,
   "id": "6610c8a6",
   "metadata": {},
   "outputs": [],
   "source": []
  }
 ],
 "metadata": {
  "kernelspec": {
   "display_name": "Python 3 (ipykernel)",
   "language": "python",
   "name": "python3"
  },
  "language_info": {
   "codemirror_mode": {
    "name": "ipython",
    "version": 3
   },
   "file_extension": ".py",
   "mimetype": "text/x-python",
   "name": "python",
   "nbconvert_exporter": "python",
   "pygments_lexer": "ipython3",
   "version": "3.10.10"
  }
 },
 "nbformat": 4,
 "nbformat_minor": 5
}
